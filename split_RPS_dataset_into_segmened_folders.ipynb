{
 "cells": [
  {
   "cell_type": "code",
   "execution_count": 1,
   "id": "7834c467",
   "metadata": {},
   "outputs": [
    {
     "data": {
      "text/plain": [
       "[name: \"/device:CPU:0\"\n",
       " device_type: \"CPU\"\n",
       " memory_limit: 268435456\n",
       " locality {\n",
       " }\n",
       " incarnation: 13987864923525360169\n",
       " xla_global_id: -1]"
      ]
     },
     "execution_count": 1,
     "metadata": {},
     "output_type": "execute_result"
    }
   ],
   "source": [
    "import tensorflow as tf\n",
    "tf.test.gpu_device_name()\n",
    "from tensorflow.python.client import device_lib\n",
    "device_lib.list_local_devices()"
   ]
  },
  {
   "cell_type": "code",
   "execution_count": 2,
   "id": "b641dfb8",
   "metadata": {
    "scrolled": true
   },
   "outputs": [
    {
     "name": "stdout",
     "output_type": "stream",
     "text": [
      "\u001b[34mRock Paper Scissors SXSW.v12i.tensorflow\u001b[m\u001b[m\r\n",
      "split_RPS_dataset_into_segmened_folders.ipynb\r\n"
     ]
    }
   ],
   "source": [
    "!ls"
   ]
  },
  {
   "cell_type": "code",
   "execution_count": 3,
   "id": "c05f22ba",
   "metadata": {},
   "outputs": [
    {
     "name": "stdout",
     "output_type": "stream",
     "text": [
      "Pictures sorted into segment folders.\n"
     ]
    }
   ],
   "source": [
    "import pandas as pd\n",
    "import os\n",
    "import shutil\n",
    "\n",
    "# Load the CSV file into a DataFrame\n",
    "csv_file = 'Rock Paper Scissors SXSW.v12i.tensorflow/train/_annotations.csv'\n",
    "df = pd.read_csv(csv_file)\n",
    "\n",
    "# Define the source directory where the pictures are located\n",
    "source_dir = 'Rock Paper Scissors SXSW.v12i.tensorflow/train'\n",
    "\n",
    "# Iterate through the DataFrame\n",
    "for index, row in df.iterrows():\n",
    "    # Extract the filename and segment from the CSV data\n",
    "    filename = row['filename']\n",
    "    segment = row['class']\n",
    "    \n",
    "    # Construct the destination folder path based on the segment\n",
    "    segment_folder = os.path.join('train', segment)\n",
    "    \n",
    "    # Ensure the destination folder exists; create it if it doesn't\n",
    "    os.makedirs(segment_folder, exist_ok=True)\n",
    "    \n",
    "    # Construct the source and destination file paths\n",
    "    source_path = os.path.join(source_dir, filename)\n",
    "    destination_path = os.path.join(segment_folder, filename)\n",
    "    \n",
    "    # Move or copy the picture to the segment folder\n",
    "    shutil.copy(source_path, destination_path)  # Use shutil.move if you want to move instead of copy\n",
    "\n",
    "print(\"Pictures sorted into segment folders.\")\n"
   ]
  },
  {
   "cell_type": "code",
   "execution_count": 4,
   "id": "4916bfc4",
   "metadata": {},
   "outputs": [
    {
     "name": "stdout",
     "output_type": "stream",
     "text": [
      "Pictures sorted into segment folders.\n"
     ]
    }
   ],
   "source": [
    "# Load the CSV file into a DataFrame\n",
    "csv_file = 'Rock Paper Scissors SXSW.v12i.tensorflow/test/_annotations.csv'\n",
    "df = pd.read_csv(csv_file)\n",
    "\n",
    "# Define the source directory where the pictures are located\n",
    "source_dir = 'Rock Paper Scissors SXSW.v12i.tensorflow/test'\n",
    "\n",
    "# Iterate through the DataFrame\n",
    "for index, row in df.iterrows():\n",
    "    # Extract the filename and segment from the CSV data\n",
    "    filename = row['filename']\n",
    "    segment = row['class']\n",
    "    \n",
    "    # Construct the destination folder path based on the segment\n",
    "    segment_folder = os.path.join('test', segment)\n",
    "    \n",
    "    # Ensure the destination folder exists; create it if it doesn't\n",
    "    os.makedirs(segment_folder, exist_ok=True)\n",
    "    \n",
    "    # Construct the source and destination file paths\n",
    "    source_path = os.path.join(source_dir, filename)\n",
    "    destination_path = os.path.join(segment_folder, filename)\n",
    "    \n",
    "    # Move or copy the picture to the segment folder\n",
    "    shutil.copy(source_path, destination_path)  # Use shutil.move if you want to move instead of copy\n",
    "\n",
    "print(\"Pictures sorted into segment folders.\")"
   ]
  },
  {
   "cell_type": "code",
   "execution_count": 5,
   "id": "386528fc",
   "metadata": {},
   "outputs": [
    {
     "name": "stdout",
     "output_type": "stream",
     "text": [
      "Pictures sorted into segment folders.\n"
     ]
    }
   ],
   "source": [
    "# Load the CSV file into a DataFrame\n",
    "csv_file = 'Rock Paper Scissors SXSW.v12i.tensorflow/valid/_annotations.csv'\n",
    "df = pd.read_csv(csv_file)\n",
    "\n",
    "# Define the source directory where the pictures are located\n",
    "source_dir = 'Rock Paper Scissors SXSW.v12i.tensorflow/valid'\n",
    "\n",
    "# Iterate through the DataFrame\n",
    "for index, row in df.iterrows():\n",
    "    # Extract the filename and segment from the CSV data\n",
    "    filename = row['filename']\n",
    "    segment = row['class']\n",
    "    \n",
    "    # Construct the destination folder path based on the segment\n",
    "    segment_folder = os.path.join('valid', segment)\n",
    "    \n",
    "    # Ensure the destination folder exists; create it if it doesn't\n",
    "    os.makedirs(segment_folder, exist_ok=True)\n",
    "    \n",
    "    # Construct the source and destination file paths\n",
    "    source_path = os.path.join(source_dir, filename)\n",
    "    destination_path = os.path.join(segment_folder, filename)\n",
    "    \n",
    "    # Move or copy the picture to the segment folder\n",
    "    shutil.copy(source_path, destination_path)  # Use shutil.move if you want to move instead of copy\n",
    "\n",
    "print(\"Pictures sorted into segment folders.\")"
   ]
  }
 ],
 "metadata": {
  "kernelspec": {
   "display_name": "Python 3 (ipykernel)",
   "language": "python",
   "name": "python3"
  },
  "language_info": {
   "codemirror_mode": {
    "name": "ipython",
    "version": 3
   },
   "file_extension": ".py",
   "mimetype": "text/x-python",
   "name": "python",
   "nbconvert_exporter": "python",
   "pygments_lexer": "ipython3",
   "version": "3.10.9"
  }
 },
 "nbformat": 4,
 "nbformat_minor": 5
}
